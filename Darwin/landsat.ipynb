{
 "cells": [
  {
   "cell_type": "markdown",
   "metadata": {},
   "source": [
    "Objetivo: Cortar y rasterizar el shapefile de manglares de México para entrenar un clasificador de cobertura para imágenes landsat. "
   ]
  },
  {
   "cell_type": "code",
   "execution_count": null,
   "metadata": {
    "collapsed": false
   },
   "outputs": [],
   "source": [
    "import landsat.search as search\n",
    "import landsat.downloader as downloader\n",
    "from landsat.image import Simple, PanSharpen, FileDoesNotExist\n",
    "import rasterio\n",
    "import subprocess\n",
    "import numpy\n",
    "import glob\n",
    "import os\n",
    "import shutil"
   ]
  },
  {
   "cell_type": "code",
   "execution_count": null,
   "metadata": {
    "collapsed": false
   },
   "outputs": [],
   "source": [
    "scenes = search.Search().search('031,045', limit = 1, cloud_max = 3, start_date = \"2012\", end_date = \"2016\")"
   ]
  },
  {
   "cell_type": "code",
   "execution_count": null,
   "metadata": {
    "collapsed": false
   },
   "outputs": [],
   "source": [
    "scenes_ids = [str(scene['sceneID']) for scene in scenes['results']]\n",
    "print scenes_ids"
   ]
  },
  {
   "cell_type": "code",
   "execution_count": null,
   "metadata": {
    "collapsed": false
   },
   "outputs": [],
   "source": [
    "download = downloader.Downloader()"
   ]
  },
  {
   "cell_type": "code",
   "execution_count": null,
   "metadata": {
    "collapsed": false
   },
   "outputs": [],
   "source": [
    "for s_id in scenes_ids:\n",
    "    output = download.download([s_id])"
   ]
  },
  {
   "cell_type": "code",
   "execution_count": null,
   "metadata": {
    "collapsed": false
   },
   "outputs": [],
   "source": [
    "landsat_dir = \"/Users/RaulSierra/landsat/downloads/\"\n",
    "landsat_files = glob.glob(landsat_dir + \"LC*.tar.bz\")\n",
    "\n",
    "for file in landsat_files[:2]:\n",
    "    im_process = Simple(file, bands=[4,3,2,1,5,6,7,9], dst_path=\"Darwin-SFL-101/landsat_data/\", verbose=False)\n",
    "    im_process.run()"
   ]
  },
  {
   "cell_type": "code",
   "execution_count": null,
   "metadata": {
    "collapsed": false
   },
   "outputs": [],
   "source": [
    "landsat_data_dir = \"Darwin-SFL-101/landsat_data/\"\n",
    "for (root, dirs, files) in os.walk(landsat_data_dir):\n",
    "    for file in files:\n",
    "        if file.endswith(\".TIF\"):\n",
    "            shutil.move(os.path.join(root,file), landsat_data_dir)\n",
    "            \n",
    "    if not dirs:\n",
    "        shutil.rmtree(root)"
   ]
  },
  {
   "cell_type": "markdown",
   "metadata": {},
   "source": [
    "## Crear raster de entrenamiento"
   ]
  },
  {
   "cell_type": "code",
   "execution_count": null,
   "metadata": {
    "collapsed": false
   },
   "outputs": [],
   "source": [
    "!mapshaper Darwin-SFL-101/mapa_manglar/mexoc2010gw/mexoc2010gw.shp -filter-fields Clase -o manglar_clase.shp"
   ]
  },
  {
   "cell_type": "markdown",
   "metadata": {},
   "source": [
    "Ahora hay que recortar el shape a solo la escena que vamos a usar"
   ]
  },
  {
   "cell_type": "code",
   "execution_count": null,
   "metadata": {
    "collapsed": false
   },
   "outputs": [],
   "source": [
    "bbox = \"-107.31526908421758,20.59854358911711,-105.07951516054297,22.730735318220372\"\n",
    "!mapshaper manglar_clase.shp -clip bbox=$bbox -o manglar_clase_clip.shp "
   ]
  },
  {
   "cell_type": "markdown",
   "metadata": {},
   "source": [
    "Utilizamos rasterio para crear un raster en ceros donde rasterizemosel shapefile"
   ]
  },
  {
   "cell_type": "code",
   "execution_count": null,
   "metadata": {
    "collapsed": false
   },
   "outputs": [],
   "source": [
    "landsat_scene = \"/Users/RaulSierra/Ecoinformatica/Devel/iPyNotebooks/Darwin/Darwin-SFL-101/train/landsat/LC80310452014130LGN00_bands_4321567891011.tif\"\n",
    "gt_raster = landsat_scene.replace(\".tif\", \".gt\")\n",
    "\n",
    "with rasterio.drivers():\n",
    "    # Read raster bands directly to Numpy arrays.\n",
    "    #\n",
    "    with rasterio.open(landsat_scene) as src:\n",
    "        width = src.width\n",
    "        height = src.height\n",
    "        empty_rast = numpy.zeros((width, height), dtype = numpy.uint8)\n",
    "\n",
    "        \n",
    "        # Write the product as a raster band to a new 8-bit file. For\n",
    "        # the new file's profile, we start with the meta attributes of\n",
    "        # the source file, but then change the band count to 1, set the\n",
    "        # dtype to uint8, and specify LZW compression.\n",
    "        profile = src.profile\n",
    "        profile.update(\n",
    "            dtype=rasterio.uint8,\n",
    "            count=1,\n",
    "            compress='lzw',\n",
    "            photometric = 'MINISBLACK')\n",
    "\n",
    "        with rasterio.open(gt_raster, 'w', **profile) as dst:\n",
    "            dst.write(empty_rast.astype(rasterio.uint8), 1)\n",
    "\n",
    "    # At the end of the ``with rasterio.drivers()`` block, context\n",
    "    # manager exits and all drivers are de-registered."
   ]
  },
  {
   "cell_type": "code",
   "execution_count": null,
   "metadata": {
    "collapsed": false
   },
   "outputs": [],
   "source": [
    "!rio info $landsat_scene"
   ]
  },
  {
   "cell_type": "code",
   "execution_count": null,
   "metadata": {
    "collapsed": false
   },
   "outputs": [],
   "source": [
    "!ogr2ogr -t_srs EPSG:3857 manglar_clase_clip_new.shp manglar_clase_clip.shp\n",
    "!gdal_rasterize -a Clase -l manglar_clase_clip_new manglar_clase_clip_new.shp $gt_raster"
   ]
  },
  {
   "cell_type": "code",
   "execution_count": null,
   "metadata": {
    "collapsed": false
   },
   "outputs": [],
   "source": [
    "!gdal_calc.py -A $gt_raster -B $landsat_scene --outfile=$gt_raster --calc=\"A*(B > 0)\""
   ]
  },
  {
   "cell_type": "markdown",
   "metadata": {},
   "source": [
    "Copiamos el groundtruth para todas las imágenes"
   ]
  },
  {
   "cell_type": "code",
   "execution_count": null,
   "metadata": {
    "collapsed": false
   },
   "outputs": [],
   "source": [
    "ls_files = glob.glob(landsat_data_dir + \"*.TIF\")\n",
    "for ls_file in ls_files:\n",
    "    shutil.copy(gt_raster, ls_file.replace(\".TIF\", \".gt\"))"
   ]
  },
  {
   "cell_type": "markdown",
   "metadata": {
    "collapsed": true
   },
   "source": [
    "Limpiar set de entrenamiento"
   ]
  },
  {
   "cell_type": "code",
   "execution_count": null,
   "metadata": {
    "collapsed": true
   },
   "outputs": [],
   "source": [
    "tiles_dir = \"./Darwin-SFL-101/train/\"\n",
    "gt_tiles = glob.glob(tiles_dir + \"*.gt\")\n",
    "\n",
    "with rasterio.drivers():\n",
    "    # Read raster bands directly to Numpy arrays.\n",
    "    #\n",
    "    for tile in gt_tiles:\n",
    "        with rasterio.open(tile) as src:\n",
    "            data = src.read()\n",
    "            if(data.sum() == 0):\n",
    "                os.remove(tile)\n",
    "                os.remove(tile.replace(\".gt\", \".tif\"))                \n",
    " "
   ]
  },
  {
   "cell_type": "code",
   "execution_count": null,
   "metadata": {
    "collapsed": false
   },
   "outputs": [],
   "source": [
    "rapideye_name = \"1349112_2014-05-17_RE4_3A_255761\"\n",
    "!rio clip $landsat_scene {\"LS_\" + rapideye_name  + \".tif\"} --like {train_dir + rapideye_name + \".tif\"}"
   ]
  },
  {
   "cell_type": "code",
   "execution_count": null,
   "metadata": {
    "collapsed": false
   },
   "outputs": [],
   "source": [
    "!rio warp {train_dir + rapideye_name + \".gt\"} {train_dir + \"landsat/LS_\" + rapideye_name  + \".gt\"} --like {train_dir + \"landsat/LS_\" + rapideye_name  + \".tif\"}"
   ]
  },
  {
   "cell_type": "code",
   "execution_count": null,
   "metadata": {
    "collapsed": false,
    "scrolled": true
   },
   "outputs": [],
   "source": [
    "!rio info {train_dir + \"landsat/LS_\" + rapideye_name  + \".tif\"}"
   ]
  }
 ],
 "metadata": {
  "kernelspec": {
   "display_name": "Python 2",
   "language": "python",
   "name": "python2"
  },
  "language_info": {
   "codemirror_mode": {
    "name": "ipython",
    "version": 2
   },
   "file_extension": ".py",
   "mimetype": "text/x-python",
   "name": "python",
   "nbconvert_exporter": "python",
   "pygments_lexer": "ipython2",
   "version": "2.7.9"
  }
 },
 "nbformat": 4,
 "nbformat_minor": 0
}
