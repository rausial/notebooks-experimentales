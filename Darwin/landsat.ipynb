{
 "cells": [
  {
   "cell_type": "markdown",
   "metadata": {},
   "source": [
    "Objetivo: Cortar y rasterizar el shapefile de manglares de México para entrenar un clasificador de cobertura para imágenes landsat. "
   ]
  },
  {
   "cell_type": "code",
   "execution_count": 51,
   "metadata": {
    "collapsed": false
   },
   "outputs": [],
   "source": [
    "import landsat.search as search\n",
    "import landsat.downloader as downloader"
   ]
  },
  {
   "cell_type": "code",
   "execution_count": 83,
   "metadata": {
    "collapsed": false
   },
   "outputs": [],
   "source": [
    "scene = search.Search().search('031,045', limit = 100, cloud_max = 1, start_date = \"2014\", end_date = \"2015\")"
   ]
  },
  {
   "cell_type": "code",
   "execution_count": 84,
   "metadata": {
    "collapsed": false
   },
   "outputs": [
    {
     "data": {
      "text/plain": [
       "[{'cloud': 0.23,\n",
       "  'date': u'2014-05-10',\n",
       "  'path': u'031',\n",
       "  'row': u'045',\n",
       "  'sat_type': u'L8',\n",
       "  'sceneID': u'LC80310452014130LGN00',\n",
       "  'thumbnail': u'http://earthexplorer.usgs.gov/browse/landsat_8/2014/031/045/LC80310452014130LGN00.jpg'}]"
      ]
     },
     "execution_count": 84,
     "metadata": {},
     "output_type": "execute_result"
    }
   ],
   "source": [
    "scene['results']"
   ]
  },
  {
   "cell_type": "code",
   "execution_count": 85,
   "metadata": {
    "collapsed": false
   },
   "outputs": [],
   "source": [
    "download = downloader.Downloader()"
   ]
  },
  {
   "cell_type": "code",
   "execution_count": null,
   "metadata": {
    "collapsed": false
   },
   "outputs": [],
   "source": [
    "output = download.download([str(scene['results'][0]['sceneID'])], bands = [1])"
   ]
  },
  {
   "cell_type": "code",
   "execution_count": 261,
   "metadata": {
    "collapsed": false,
    "scrolled": true
   },
   "outputs": [
    {
     "name": "stdout",
     "output_type": "stream",
     "text": [
      "\u001b[34m===> \u001b[0mUnzipping LC80310452014130LGN00 - It might take some time\n",
      "     \u001b[32mLC80310452014130LGN00 is already unzipped.\u001b[0m\n",
      "\u001b[34m===> \u001b[0mImage processing started for bands 4-3-2-1-5-6-7-9-10-11\n",
      "\u001b[34m===> \u001b[0mGetting boundaries\n",
      "\u001b[34m===> \u001b[0mProjecting\n",
      "     \u001b[32mband 4\u001b[0m\n",
      "     \u001b[32mband 3\u001b[0m\n",
      "     \u001b[32mband 2\u001b[0m\n",
      "     \u001b[32mband 1\u001b[0m\n",
      "     \u001b[32mband 5\u001b[0m\n",
      "     \u001b[32mband 6\u001b[0m\n",
      "     \u001b[32mband 7\u001b[0m\n",
      "     \u001b[32mband 9\u001b[0m\n",
      "     \u001b[32mband 10\u001b[0m\n",
      "     \u001b[32mband 11\u001b[0m\n",
      "\u001b[34m===> \u001b[0mCalculating cloud and snow coverage from QA band\n",
      "     \u001b[32mcloud/snow coverage: 0.77\u001b[0m\n",
      "\u001b[34m===> \u001b[0mFinal Steps\n",
      "     \u001b[32mColor correcting band 4\u001b[0m\n",
      "     \u001b[32mColor correcting band 3\u001b[0m\n",
      "     \u001b[32mColor correcting band 2\u001b[0m\n",
      "     \u001b[32mColor correcting band 1\u001b[0m\n",
      "     \u001b[32mColor correcting band 5\u001b[0m\n",
      "     \u001b[32mColor correcting band 6\u001b[0m\n",
      "     \u001b[32mColor correcting band 7\u001b[0m\n",
      "     \u001b[32mColor correcting band 9\u001b[0m\n",
      "     \u001b[32mColor correcting band 10\u001b[0m\n",
      "     \u001b[32mColor correcting band 11\u001b[0m\n",
      "     \u001b[32mWriting to file\u001b[0m\n",
      "\u001b[34m===> \u001b[0mThe output is stored at /Users/RaulSierra/landsat/processed/LC80310452014130LGN00/LC80310452014130LGN00_bands_432156791011.TIF\n",
      "\u001b[34m===> \u001b[0mDone!\n",
      "Time spent : 99.56 seconds\n"
     ]
    }
   ],
   "source": [
    "!landsat process /Users/RaulSierra/landsat/downloads/LC80310452014130LGN00.tar.bz --bands 432156791011"
   ]
  },
  {
   "cell_type": "code",
   "execution_count": 262,
   "metadata": {
    "collapsed": true
   },
   "outputs": [],
   "source": [
    "landsat_dir = \"/Users/RaulSierra/landsat\"\n",
    "landsat_scene = landsat_dir + \"/processed/LC80310452014130LGN00/LC80310452014130LGN00_bands_432156791011.TIF\"\n",
    "train_dir = \"Darwin-SFL-101/landsat/train/\""
   ]
  },
  {
   "cell_type": "markdown",
   "metadata": {},
   "source": [
    "## Crear raster de entrenamiento"
   ]
  },
  {
   "cell_type": "code",
   "execution_count": 202,
   "metadata": {
    "collapsed": false
   },
   "outputs": [
    {
     "name": "stdout",
     "output_type": "stream",
     "text": [
      "Wrote manglar_clase.shp\r\n",
      "Wrote manglar_clase.shx\r\n",
      "Wrote manglar_clase.dbf\r\n",
      "Wrote manglar_clase.prj\r\n"
     ]
    }
   ],
   "source": [
    "!mapshaper Darwin-SFL-101/mapa_manglar/mexoc2010gw/mexoc2010gw.shp -filter-fields Clase -o manglar_clase.shp"
   ]
  },
  {
   "cell_type": "markdown",
   "metadata": {},
   "source": [
    "Ahora hay que recortar el shape a solo la escena que vamos a usar"
   ]
  },
  {
   "cell_type": "code",
   "execution_count": 263,
   "metadata": {
    "collapsed": false
   },
   "outputs": [
    {
     "name": "stdout",
     "output_type": "stream",
     "text": [
      "/Users/RaulSierra/.virtualenvs/eda/lib/python2.7/site-packages/rasterio/warp.py:8: RuntimeWarning: numpy.dtype size changed, may indicate binary incompatibility\n",
      "  from rasterio._warp import _transform_geom, _reproject, RESAMPLING\n",
      "/Users/RaulSierra/.virtualenvs/eda/lib/python2.7/site-packages/rasterio/fill.py:2: RuntimeWarning: numpy.dtype size changed, may indicate binary incompatibility\n",
      "  from rasterio._fill import _fillnodata\n",
      "{\"bbox\": [-107.31526908421758, 20.59854358911711, -105.07951516054297, 22.730735318220372], \"features\": [{\"bbox\": [-107.31526908421758, 20.59854358911711, -105.07951516054297, 22.730735318220372], \"geometry\": {\"coordinates\": [[[-107.31526908421758, 20.59854358911711], [-105.07951516054297, 20.59854358911711], [-105.07951516054297, 22.730735318220372], [-107.31526908421758, 22.730735318220372], [-107.31526908421758, 20.59854358911711]]], \"type\": \"Polygon\"}, \"properties\": {\"filename\": \"LC80310452014130LGN00_bands_432156791011.TIF\", \"id\": \"0\", \"title\": \"/Users/RaulSierra/landsat/processed/LC80310452014130LGN00/LC80310452014130LGN00_bands_432156791011.TIF\"}, \"type\": \"Feature\"}], \"type\": \"FeatureCollection\"}\n"
     ]
    }
   ],
   "source": [
    "!rio bounds $landsat_scene"
   ]
  },
  {
   "cell_type": "code",
   "execution_count": 264,
   "metadata": {
    "collapsed": false
   },
   "outputs": [
    {
     "name": "stdout",
     "output_type": "stream",
     "text": [
      "[filter] Retained 9,518 of 115,302 features\n",
      "Wrote manglar_clase_clip-ms.shp\n",
      "Wrote manglar_clase_clip-ms.shx\n",
      "Wrote manglar_clase_clip-ms.dbf\n",
      "Wrote manglar_clase_clip-ms.prj\n"
     ]
    }
   ],
   "source": [
    "bbox = \"-107.31526908421758,20.59854358911711,-105.07951516054297,22.730735318220372\"\n",
    "!mapshaper manglar_clase.shp -clip bbox=$bbox -o manglar_clase_clip.shp "
   ]
  },
  {
   "cell_type": "code",
   "execution_count": 265,
   "metadata": {
    "collapsed": false
   },
   "outputs": [
    {
     "name": "stdout",
     "output_type": "stream",
     "text": [
      "/Users/RaulSierra/.virtualenvs/eda/lib/python2.7/site-packages/rasterio/warp.py:8: RuntimeWarning: numpy.dtype size changed, may indicate binary incompatibility\n",
      "  from rasterio._warp import _transform_geom, _reproject, RESAMPLING\n",
      "/Users/RaulSierra/.virtualenvs/eda/lib/python2.7/site-packages/rasterio/fill.py:2: RuntimeWarning: numpy.dtype size changed, may indicate binary incompatibility\n",
      "  from rasterio._fill import _fillnodata\n",
      "{\"count\": 10, \"crs\": \"EPSG:3857\", \"photometric\": \"RGB\", \"interleave\": \"pixel\", \"dtype\": \"uint8\", \"driver\": \"GTiff\", \"transform\": [32.5294717451994, 0.0, -11946281.108798238, 0.0, -32.69938230068562, 2599487.9455454494], \"lnglat\": [-106.19739212238026, 21.66857998213058], \"height\": 7811, \"width\": 7651, \"shape\": [7811, 7651], \"tiled\": false, \"res\": [32.5294717451994, 32.69938230068562], \"nodata\": 0.0, \"bounds\": [-11946281.108798238, 2344073.070394794, -11697398.120475717, 2599487.9455454494]}\n"
     ]
    }
   ],
   "source": [
    "!rio info $landsat_scene"
   ]
  },
  {
   "cell_type": "code",
   "execution_count": 286,
   "metadata": {
    "collapsed": false
   },
   "outputs": [
    {
     "name": "stdout",
     "output_type": "stream",
     "text": [
      "Missing source or destination.\r\n",
      "\r\n",
      "Usage: gdal_rasterize [-b band]* [-i] [-at]\r\n",
      "       [-burn value]* | [-a attribute_name] [-3d]\r\n",
      "       [-l layername]* [-where expression] [-sql select_statement]\r\n",
      "       [-of format] [-a_srs srs_def] [-co \"NAME=VALUE\"]*\r\n",
      "       [-a_nodata value] [-init value]*\r\n",
      "       [-te xmin ymin xmax ymax] [-tr xres yres] [-tap] [-ts width height]\r\n",
      "       [-ot {Byte/Int16/UInt16/UInt32/Int32/Float32/Float64/\r\n",
      "             CInt16/CInt32/CFloat32/CFloat64}] [-q]\r\n",
      "       <src_datasource> <dst_filename>\r\n"
     ]
    }
   ],
   "source": [
    "!gdal_rasterize -h"
   ]
  },
  {
   "cell_type": "code",
   "execution_count": 1,
   "metadata": {
    "collapsed": false
   },
   "outputs": [
    {
     "name": "stdout",
     "output_type": "stream",
     "text": [
      "0...10...20...30...40...50...60...70...80...90...100 - done.\n"
     ]
    }
   ],
   "source": [
    "!gdal_rasterize -a_nodata 0 -a Clase -init 0 -ts 7651 7811 -ot Int16 -l manglar_clase_clip manglar_clase_clip.shp gt_manglar_clase_clip_int.tif"
   ]
  },
  {
   "cell_type": "code",
   "execution_count": 2,
   "metadata": {
    "collapsed": false
   },
   "outputs": [
    {
     "name": "stdout",
     "output_type": "stream",
     "text": [
      "/Users/RaulSierra/.virtualenvs/eda/lib/python2.7/site-packages/rasterio/warp.py:8: RuntimeWarning: numpy.dtype size changed, may indicate binary incompatibility\n",
      "  from rasterio._warp import _transform_geom, _reproject, RESAMPLING\n",
      "/Users/RaulSierra/.virtualenvs/eda/lib/python2.7/site-packages/rasterio/fill.py:2: RuntimeWarning: numpy.dtype size changed, may indicate binary incompatibility\n",
      "  from rasterio._fill import _fillnodata\n",
      "{\"count\": 1, \"crs\": \"EPSG:4326\", \"interleave\": \"band\", \"dtype\": \"int16\", \"driver\": \"GTiff\", \"transform\": [9.995573828773086e-05, 0.0, -105.92160746356771, 0.0, -0.000271381981135052, 22.730735318220372], \"lnglat\": [-105.539226786748, 21.670852990897423], \"height\": 7811, \"width\": 7651, \"shape\": [7811, 7651], \"tiled\": false, \"res\": [9.995573828773086e-05, 0.000271381981135052], \"nodata\": 0.0, \"bounds\": [-105.92160746356771, 20.61097066357448, -105.15684610992828, 22.730735318220372]}\n"
     ]
    }
   ],
   "source": [
    "!rio info gt_manglar_clase_clip_int.tif"
   ]
  },
  {
   "cell_type": "code",
   "execution_count": 222,
   "metadata": {
    "collapsed": false
   },
   "outputs": [
    {
     "name": "stdout",
     "output_type": "stream",
     "text": [
      "Name: manglar_clase_clip\r\n",
      "Geometry: polygon\r\n",
      "Records: 9,518\r\n",
      "Bounds: -105.92160746356771 20.61097066357448 -105.15684610992828 22.730735318220372\r\n",
      "Data table\r\n",
      "  Field  First value\r\n",
      "  Clase  1\r\n"
     ]
    }
   ],
   "source": [
    "!mapshaper manglar_clase_clip.shp -info"
   ]
  },
  {
   "cell_type": "code",
   "execution_count": null,
   "metadata": {
    "collapsed": true
   },
   "outputs": [],
   "source": [
    "!rio info "
   ]
  },
  {
   "cell_type": "code",
   "execution_count": 223,
   "metadata": {
    "collapsed": false
   },
   "outputs": [],
   "source": [
    "!ogr2ogr -f GeoJSON -t_srs crs:84 manglar_clase_clip.geojson manglar_clase_clip.shp"
   ]
  },
  {
   "cell_type": "code",
   "execution_count": 226,
   "metadata": {
    "collapsed": false
   },
   "outputs": [
    {
     "name": "stdout",
     "output_type": "stream",
     "text": [
      "Wrote test_merge1.geojson\r\n",
      "Wrote test_merge2.geojson\r\n"
     ]
    }
   ],
   "source": [
    "base_raster = \"/Users/RaulSierra/landsat/processed/LC80310452014130LGN00/LC80310452014130LGN00_bands_564_pan.TIF\"\n",
    "!mapshaper combine-files test_combine1.geojson test_combine2.geojson -o test_merge.geojson"
   ]
  },
  {
   "cell_type": "code",
   "execution_count": null,
   "metadata": {
    "collapsed": true
   },
   "outputs": [],
   "source": []
  },
  {
   "cell_type": "code",
   "execution_count": 192,
   "metadata": {
    "collapsed": false
   },
   "outputs": [
    {
     "name": "stdout",
     "output_type": "stream",
     "text": [
      "/Users/RaulSierra/.virtualenvs/eda/lib/python2.7/site-packages/rasterio/warp.py:8: RuntimeWarning: numpy.dtype size changed, may indicate binary incompatibility\r\n",
      "  from rasterio._warp import _transform_geom, _reproject, RESAMPLING\r\n",
      "/Users/RaulSierra/.virtualenvs/eda/lib/python2.7/site-packages/rasterio/fill.py:2: RuntimeWarning: numpy.dtype size changed, may indicate binary incompatibility\r\n",
      "  from rasterio._fill import _fillnodata\r\n"
     ]
    }
   ],
   "source": [
    "rapideye_name = \"1349112_2014-05-17_RE4_3A_255761\"\n",
    "!rio clip $landsat_scene {\"LS_\" + rapideye_name  + \".tif\"} --like {train_dir + rapideye_name + \".tif\"}"
   ]
  },
  {
   "cell_type": "code",
   "execution_count": 195,
   "metadata": {
    "collapsed": false
   },
   "outputs": [
    {
     "name": "stdout",
     "output_type": "stream",
     "text": [
      "/Users/RaulSierra/.virtualenvs/eda/lib/python2.7/site-packages/rasterio/warp.py:8: RuntimeWarning: numpy.dtype size changed, may indicate binary incompatibility\r\n",
      "  from rasterio._warp import _transform_geom, _reproject, RESAMPLING\r\n",
      "/Users/RaulSierra/.virtualenvs/eda/lib/python2.7/site-packages/rasterio/fill.py:2: RuntimeWarning: numpy.dtype size changed, may indicate binary incompatibility\r\n",
      "  from rasterio._fill import _fillnodata\r\n"
     ]
    }
   ],
   "source": [
    "!rio warp {train_dir + rapideye_name + \".gt\"} {train_dir + \"landsat/LS_\" + rapideye_name  + \".gt\"} --like {train_dir + \"landsat/LS_\" + rapideye_name  + \".tif\"}"
   ]
  },
  {
   "cell_type": "code",
   "execution_count": 197,
   "metadata": {
    "collapsed": false
   },
   "outputs": [
    {
     "name": "stdout",
     "output_type": "stream",
     "text": [
      "/Users/RaulSierra/.virtualenvs/eda/lib/python2.7/site-packages/rasterio/warp.py:8: RuntimeWarning: numpy.dtype size changed, may indicate binary incompatibility\n",
      "  from rasterio._warp import _transform_geom, _reproject, RESAMPLING\n",
      "/Users/RaulSierra/.virtualenvs/eda/lib/python2.7/site-packages/rasterio/fill.py:2: RuntimeWarning: numpy.dtype size changed, may indicate binary incompatibility\n",
      "  from rasterio._fill import _fillnodata\n",
      "{\"count\": 11, \"crs\": \"EPSG:3857\", \"interleave\": \"pixel\", \"dtype\": \"uint8\", \"driver\": \"GTiff\", \"transform\": [32.5294717451994, 0.0, -11766718.424764737, 0.0, -32.69938230068562, 2502436.1788770147], \"lnglat\": [-105.58066768689272, 21.810871901693353], \"height\": 832, \"width\": 832, \"shape\": [832, 832], \"tiled\": false, \"res\": [32.5294717451994, 32.69938230068562], \"nodata\": 0.0, \"bounds\": [-11766718.424764737, 2475230.292802844, -11739653.904272731, 2502436.1788770147]}\n"
     ]
    }
   ],
   "source": [
    "!rio info {train_dir + \"landsat/LS_\" + rapideye_name  + \".tif\"}"
   ]
  }
 ],
 "metadata": {
  "kernelspec": {
   "display_name": "Python 2",
   "language": "python",
   "name": "python2"
  },
  "language_info": {
   "codemirror_mode": {
    "name": "ipython",
    "version": 2
   },
   "file_extension": ".py",
   "mimetype": "text/x-python",
   "name": "python",
   "nbconvert_exporter": "python",
   "pygments_lexer": "ipython2",
   "version": "2.7.9"
  }
 },
 "nbformat": 4,
 "nbformat_minor": 0
}
