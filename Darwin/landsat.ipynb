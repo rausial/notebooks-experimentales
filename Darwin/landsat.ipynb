{
 "cells": [
  {
   "cell_type": "markdown",
   "metadata": {},
   "source": [
    "Objetivo: Cortar y rasterizar el shapefile de manglares de México para entrenar un clasificador de cobertura para imágenes landsat. "
   ]
  },
  {
   "cell_type": "code",
   "execution_count": 1,
   "metadata": {
    "collapsed": false
   },
   "outputs": [],
   "source": [
    "import landsat.search as search\n",
    "import landsat.downloader as downloader\n",
    "from landsat.image import Simple, PanSharpen, FileDoesNotExist\n",
    "import rasterio\n",
    "import subprocess\n",
    "import numpy\n",
    "import glob\n",
    "import os\n",
    "import shutil"
   ]
  },
  {
   "cell_type": "code",
   "execution_count": 4,
   "metadata": {
    "collapsed": false
   },
   "outputs": [],
   "source": [
    "scenes = search.Search().search('031,045', limit = 1, cloud_max = 3, start_date = \"2012\", end_date = \"2016\")"
   ]
  },
  {
   "cell_type": "code",
   "execution_count": 5,
   "metadata": {
    "collapsed": false
   },
   "outputs": [
    {
     "name": "stdout",
     "output_type": "stream",
     "text": [
      "['LC80310452015085LGN00']\n"
     ]
    }
   ],
   "source": [
    "scenes_ids = [str(scene['sceneID']) for scene in scenes['results']]\n",
    "print scenes_ids"
   ]
  },
  {
   "cell_type": "code",
   "execution_count": 6,
   "metadata": {
    "collapsed": false
   },
   "outputs": [],
   "source": [
    "download = downloader.Downloader()"
   ]
  },
  {
   "cell_type": "code",
   "execution_count": 8,
   "metadata": {
    "collapsed": false
   },
   "outputs": [
    {
     "name": "stderr",
     "output_type": "stream",
     "text": [
      "    17%     94.3 MiB     555 Bytes/s   10 days, 0:17:33 ETA    \n",
      "    17%     95.4 MiB     727.7 KiB/s            0:10:43 ETA    \n",
      "    17%     96.9 MiB       1.3 MiB/s            0:05:46 ETA    \n",
      "    17%     98.7 MiB       1.7 MiB/s            0:04:23 ETA    \n",
      "    18%    100.5 MiB       2.0 MiB/s            0:03:42 ETA    \n",
      "    18%    102.0 MiB       2.2 MiB/s            0:03:27 ETA    \n",
      "    18%    103.6 MiB       2.3 MiB/s            0:03:13 ETA    \n",
      "    19%    105.3 MiB       2.4 MiB/s            0:03:04 ETA    \n",
      "    19%    107.1 MiB       2.6 MiB/s            0:02:54 ETA    \n",
      "    19%    108.9 MiB       2.6 MiB/s            0:02:48 ETA    \n",
      "    20%    110.6 MiB       2.7 MiB/s            0:02:43 ETA    \n",
      "    20%    111.9 MiB       2.7 MiB/s            0:02:44 ETA    \n",
      "    20%    113.5 MiB       2.7 MiB/s            0:02:41 ETA    \n",
      "    20%    115.2 MiB       2.8 MiB/s            0:02:38 ETA    \n",
      "    21%    116.4 MiB       2.7 MiB/s            0:02:39 ETA    \n",
      "    21%    117.9 MiB       2.8 MiB/s            0:02:37 ETA    \n",
      "    21%    119.8 MiB       2.8 MiB/s            0:02:33 ETA    \n",
      "    21%    121.5 MiB       2.8 MiB/s            0:02:31 ETA    \n",
      "    22%    123.7 MiB       2.9 MiB/s            0:02:26 ETA    \n",
      "    22%    125.6 MiB       3.0 MiB/s            0:02:23 ETA    \n",
      "    23%    127.6 MiB       3.0 MiB/s            0:02:20 ETA    \n",
      "    23%    129.8 MiB       3.1 MiB/s            0:02:17 ETA    \n",
      "    23%    131.1 MiB       3.1 MiB/s            0:02:17 ETA    \n",
      "    23%    132.0 MiB       3.0 MiB/s            0:02:19 ETA    \n",
      "    24%    133.8 MiB       3.0 MiB/s            0:02:18 ETA    \n",
      "    24%    135.8 MiB       3.1 MiB/s            0:02:16 ETA    \n",
      "    24%    137.3 MiB       3.1 MiB/s            0:02:15 ETA    \n",
      "    25%    138.4 MiB       3.0 MiB/s            0:02:16 ETA    \n",
      "    25%    140.0 MiB       3.0 MiB/s            0:02:16 ETA    \n",
      "    25%    141.8 MiB       3.1 MiB/s            0:02:14 ETA    \n",
      "    26%    143.9 MiB       3.1 MiB/s            0:02:12 ETA    \n",
      "    26%    145.8 MiB       3.1 MiB/s            0:02:10 ETA    \n",
      "    26%    147.6 MiB       3.1 MiB/s            0:02:09 ETA    \n",
      "    27%    149.4 MiB       3.1 MiB/s            0:02:08 ETA    \n",
      "    27%    151.2 MiB       3.1 MiB/s            0:02:07 ETA    \n",
      "    27%    152.9 MiB       3.2 MiB/s            0:02:06 ETA    \n",
      "    27%    154.7 MiB       3.2 MiB/s            0:02:05 ETA    \n",
      "    28%    156.1 MiB       3.2 MiB/s            0:02:05 ETA    \n",
      "    28%    158.1 MiB       3.2 MiB/s            0:02:04 ETA    \n",
      "    28%    160.1 MiB       3.2 MiB/s            0:02:02 ETA    \n",
      "    29%    162.3 MiB       3.2 MiB/s            0:02:01 ETA    \n",
      "    29%    163.9 MiB       3.2 MiB/s            0:02:00 ETA    \n",
      "    29%    165.2 MiB       3.2 MiB/s            0:02:00 ETA    \n",
      "    30%    166.7 MiB       3.2 MiB/s            0:02:00 ETA    \n",
      "    30%    168.0 MiB       3.2 MiB/s            0:02:00 ETA    \n",
      "    30%    169.6 MiB       3.2 MiB/s            0:02:00 ETA    \n",
      "    30%    170.8 MiB       3.2 MiB/s            0:02:00 ETA    \n",
      "    31%    172.3 MiB       3.2 MiB/s            0:01:59 ETA    \n",
      "    31%    174.5 MiB       3.2 MiB/s            0:01:58 ETA    \n",
      "    31%    176.6 MiB       3.2 MiB/s            0:01:56 ETA    \n",
      "    32%    178.4 MiB       3.2 MiB/s            0:01:56 ETA    \n",
      "    32%    180.2 MiB       3.2 MiB/s            0:01:55 ETA    \n",
      "    32%    182.1 MiB       3.2 MiB/s            0:01:54 ETA    \n",
      "    33%    184.3 MiB       3.3 MiB/s            0:01:53 ETA    \n",
      "    33%    186.3 MiB       3.3 MiB/s            0:01:52 ETA    \n",
      "    34%    188.3 MiB       3.3 MiB/s            0:01:51 ETA    \n",
      "    34%    190.2 MiB       3.3 MiB/s            0:01:50 ETA    \n",
      "    34%    192.3 MiB       3.3 MiB/s            0:01:49 ETA    \n",
      "    35%    194.3 MiB       3.3 MiB/s            0:01:48 ETA    \n",
      "    35%    196.4 MiB       3.3 MiB/s            0:01:47 ETA    \n",
      "    35%    198.5 MiB       3.3 MiB/s            0:01:45 ETA    \n",
      "    36%    200.6 MiB       3.4 MiB/s            0:01:44 ETA    \n",
      "    36%    202.7 MiB       3.4 MiB/s            0:01:43 ETA    \n",
      "    36%    204.6 MiB       3.4 MiB/s            0:01:43 ETA    \n",
      "    37%    205.7 MiB       3.4 MiB/s            0:01:43 ETA    \n",
      "    37%    207.2 MiB       3.4 MiB/s            0:01:42 ETA    \n",
      "    37%    209.1 MiB       3.4 MiB/s            0:01:42 ETA    \n",
      "    38%    210.6 MiB       3.4 MiB/s            0:01:41 ETA    \n",
      "    38%    212.4 MiB       3.4 MiB/s            0:01:41 ETA    \n",
      "    38%    214.2 MiB       3.4 MiB/s            0:01:40 ETA    \n",
      "    39%    216.0 MiB       3.4 MiB/s            0:01:40 ETA    \n",
      "    39%    218.0 MiB       3.4 MiB/s            0:01:39 ETA    \n",
      "    39%    219.9 MiB       3.4 MiB/s            0:01:38 ETA    \n",
      "    40%    221.5 MiB       3.4 MiB/s            0:01:38 ETA    \n",
      "    40%    223.5 MiB       3.4 MiB/s            0:01:37 ETA    \n",
      "    40%    225.3 MiB       3.4 MiB/s            0:01:36 ETA    \n",
      "    41%    227.0 MiB       3.4 MiB/s            0:01:36 ETA    \n",
      "    41%    228.7 MiB       3.4 MiB/s            0:01:35 ETA    \n",
      "    41%    229.5 MiB       3.4 MiB/s            0:01:36 ETA    \n",
      "    41%    230.5 MiB       3.4 MiB/s            0:01:36 ETA    \n",
      "    41%    232.1 MiB       3.3 MiB/s            0:01:35 ETA    \n",
      "    42%    233.5 MiB       3.3 MiB/s            0:01:35 ETA    \n",
      "    42%    234.5 MiB       3.3 MiB/s            0:01:35 ETA    \n",
      "    42%    235.5 MiB       3.3 MiB/s            0:01:35 ETA    \n",
      "    42%    236.8 MiB       3.3 MiB/s            0:01:35 ETA    \n",
      "    43%    238.2 MiB       3.3 MiB/s            0:01:35 ETA    \n",
      "    43%    240.1 MiB       3.3 MiB/s            0:01:34 ETA    \n",
      "    43%    241.9 MiB       3.3 MiB/s            0:01:34 ETA    \n",
      "    44%    244.0 MiB       3.3 MiB/s            0:01:33 ETA    \n",
      "    44%    246.2 MiB       3.3 MiB/s            0:01:32 ETA    \n",
      "    44%    248.0 MiB       3.3 MiB/s            0:01:31 ETA    \n",
      "    45%    249.7 MiB       3.3 MiB/s            0:01:31 ETA    \n",
      "    45%    251.3 MiB       3.3 MiB/s            0:01:30 ETA    \n",
      "    45%    253.2 MiB       3.3 MiB/s            0:01:29 ETA    \n",
      "    46%    255.1 MiB       3.3 MiB/s            0:01:29 ETA    \n",
      "    46%    257.3 MiB       3.3 MiB/s            0:01:28 ETA    \n",
      "    46%    259.3 MiB       3.4 MiB/s            0:01:27 ETA    \n",
      "    47%    261.3 MiB       3.4 MiB/s            0:01:26 ETA    \n",
      "    47%    263.3 MiB       3.4 MiB/s            0:01:26 ETA    \n",
      "    47%    265.3 MiB       3.4 MiB/s            0:01:25 ETA    \n",
      "    48%    267.3 MiB       3.4 MiB/s            0:01:24 ETA    \n",
      "    48%    269.1 MiB       3.4 MiB/s            0:01:23 ETA    \n",
      "    49%    271.2 MiB       3.4 MiB/s            0:01:23 ETA    \n",
      "    49%    272.9 MiB       3.4 MiB/s            0:01:22 ETA    \n",
      "    49%    274.7 MiB       3.4 MiB/s            0:01:22 ETA    \n",
      "    50%    276.8 MiB       3.4 MiB/s            0:01:21 ETA    \n",
      "    50%    278.9 MiB       3.4 MiB/s            0:01:20 ETA    \n",
      "    50%    280.6 MiB       3.4 MiB/s            0:01:20 ETA    \n",
      "    51%    282.6 MiB       3.4 MiB/s            0:01:19 ETA    \n",
      "    51%    284.6 MiB       3.4 MiB/s            0:01:18 ETA    \n",
      "    51%    286.3 MiB       3.4 MiB/s            0:01:18 ETA    \n",
      "    52%    288.5 MiB       3.4 MiB/s            0:01:17 ETA    \n",
      "    52%    290.4 MiB       3.4 MiB/s            0:01:16 ETA    \n",
      "    52%    292.3 MiB       3.4 MiB/s            0:01:16 ETA    \n",
      "    53%    294.4 MiB       3.4 MiB/s            0:01:15 ETA    \n",
      "    53%    296.2 MiB       3.4 MiB/s            0:01:14 ETA    \n",
      "    53%    298.4 MiB       3.4 MiB/s            0:01:13 ETA    \n",
      "    54%    300.0 MiB       3.4 MiB/s            0:01:13 ETA    \n",
      "    54%    301.9 MiB       3.4 MiB/s            0:01:12 ETA    \n",
      "    54%    303.8 MiB       3.4 MiB/s            0:01:12 ETA    \n",
      "    55%    305.7 MiB       3.5 MiB/s            0:01:11 ETA    \n",
      "    55%    307.2 MiB       3.4 MiB/s            0:01:11 ETA    \n",
      "    55%    309.1 MiB       3.5 MiB/s            0:01:10 ETA    \n",
      "    56%    311.2 MiB       3.5 MiB/s            0:01:09 ETA    \n",
      "    56%    313.1 MiB       3.5 MiB/s            0:01:09 ETA    \n",
      "    56%    315.1 MiB       3.5 MiB/s            0:01:08 ETA    \n",
      "    57%    316.7 MiB       3.5 MiB/s            0:01:08 ETA    \n",
      "    57%    317.9 MiB       3.5 MiB/s            0:01:08 ETA    \n",
      "    57%    318.8 MiB       3.4 MiB/s            0:01:08 ETA    \n",
      "    57%    320.5 MiB       3.4 MiB/s            0:01:07 ETA    \n",
      "    58%    322.4 MiB       3.4 MiB/s            0:01:06 ETA    \n",
      "    58%    324.0 MiB       3.4 MiB/s            0:01:06 ETA    \n",
      "    58%    325.6 MiB       3.4 MiB/s            0:01:06 ETA    \n",
      "    59%    327.7 MiB       3.4 MiB/s            0:01:05 ETA    \n",
      "    59%    329.8 MiB       3.5 MiB/s            0:01:04 ETA    \n",
      "    59%    331.8 MiB       3.5 MiB/s            0:01:04 ETA    \n",
      "    60%    333.8 MiB       3.5 MiB/s            0:01:03 ETA    \n",
      "    60%    335.2 MiB       3.5 MiB/s            0:01:03 ETA    \n",
      "    60%    337.1 MiB       3.5 MiB/s            0:01:02 ETA    \n",
      "    61%    339.2 MiB       3.5 MiB/s            0:01:01 ETA    \n",
      "    61%    340.2 MiB       3.4 MiB/s            0:01:01 ETA    \n",
      "    61%    341.7 MiB       3.4 MiB/s            0:01:01 ETA    \n",
      "    62%    343.5 MiB       3.4 MiB/s            0:01:00 ETA    \n",
      "    62%    344.8 MiB       3.4 MiB/s            0:01:00 ETA    \n",
      "    62%    346.3 MiB       3.4 MiB/s            0:01:00 ETA    \n",
      "    62%    348.1 MiB       3.4 MiB/s            0:00:59 ETA    \n",
      "    63%    349.9 MiB       3.4 MiB/s            0:00:59 ETA    \n",
      "    63%    350.8 MiB       3.4 MiB/s            0:00:59 ETA    \n",
      "    63%    352.3 MiB       3.4 MiB/s            0:00:58 ETA    \n",
      "    64%    354.1 MiB       3.4 MiB/s            0:00:58 ETA    \n",
      "    64%    356.0 MiB       3.4 MiB/s            0:00:57 ETA    \n",
      "    64%    357.7 MiB       3.4 MiB/s            0:00:57 ETA    \n",
      "    64%    359.4 MiB       3.4 MiB/s            0:00:56 ETA    \n",
      "    65%    360.5 MiB       3.4 MiB/s            0:00:56 ETA    \n",
      "    65%    362.3 MiB       3.4 MiB/s            0:00:55 ETA    \n",
      "    65%    364.1 MiB       3.4 MiB/s            0:00:55 ETA    \n",
      "    66%    365.9 MiB       3.4 MiB/s            0:00:54 ETA    \n",
      "    66%    367.7 MiB       3.4 MiB/s            0:00:54 ETA    \n",
      "    66%    369.7 MiB       3.4 MiB/s            0:00:53 ETA    \n",
      "    67%    371.0 MiB       3.4 MiB/s            0:00:53 ETA    \n",
      "    67%    372.4 MiB       3.4 MiB/s            0:00:52 ETA    \n",
      "    67%    374.1 MiB       3.4 MiB/s            0:00:52 ETA    \n",
      "    67%    375.5 MiB       3.4 MiB/s            0:00:52 ETA    \n",
      "    68%    376.6 MiB       3.4 MiB/s            0:00:51 ETA    \n",
      "    68%    378.6 MiB       3.4 MiB/s            0:00:51 ETA    \n",
      "    68%    380.4 MiB       3.4 MiB/s            0:00:50 ETA    \n",
      "    69%    382.3 MiB       3.4 MiB/s            0:00:50 ETA    \n",
      "    69%    384.3 MiB       3.4 MiB/s            0:00:49 ETA    \n",
      "    69%    386.4 MiB       3.4 MiB/s            0:00:48 ETA    \n",
      "    70%    388.5 MiB       3.4 MiB/s            0:00:48 ETA    \n",
      "    70%    390.5 MiB       3.4 MiB/s            0:00:47 ETA    \n",
      "    70%    392.3 MiB       3.4 MiB/s            0:00:46 ETA    \n",
      "    71%    393.7 MiB       3.4 MiB/s            0:00:46 ETA    \n",
      "    71%    395.5 MiB       3.4 MiB/s            0:00:46 ETA    \n",
      "    71%    397.5 MiB       3.4 MiB/s            0:00:45 ETA    \n",
      "    72%    398.9 MiB       3.4 MiB/s            0:00:45 ETA    \n",
      "    72%    400.8 MiB       3.4 MiB/s            0:00:44 ETA    \n",
      "    72%    402.9 MiB       3.4 MiB/s            0:00:43 ETA    \n",
      "    73%    404.5 MiB       3.4 MiB/s            0:00:43 ETA    \n",
      "    73%    406.7 MiB       3.4 MiB/s            0:00:42 ETA    \n",
      "    73%    408.7 MiB       3.4 MiB/s            0:00:41 ETA    \n",
      "    74%    410.7 MiB       3.4 MiB/s            0:00:41 ETA    \n",
      "    74%    412.8 MiB       3.4 MiB/s            0:00:40 ETA    \n",
      "    74%    414.6 MiB       3.4 MiB/s            0:00:40 ETA    \n",
      "    75%    416.4 MiB       3.4 MiB/s            0:00:39 ETA    \n",
      "    75%    418.4 MiB       3.4 MiB/s            0:00:39 ETA    \n",
      "    76%    420.3 MiB       3.5 MiB/s            0:00:38 ETA    \n",
      "    76%    422.2 MiB       3.5 MiB/s            0:00:37 ETA    \n",
      "    76%    424.0 MiB       3.5 MiB/s            0:00:37 ETA    \n",
      "    77%    426.0 MiB       3.5 MiB/s            0:00:36 ETA    \n",
      "    77%    427.6 MiB       3.5 MiB/s            0:00:36 ETA    \n",
      "    77%    428.6 MiB       3.4 MiB/s            0:00:36 ETA    \n",
      "    77%    430.2 MiB       3.4 MiB/s            0:00:35 ETA    \n",
      "    78%    432.3 MiB       3.4 MiB/s            0:00:34 ETA    \n",
      "    78%    434.5 MiB       3.5 MiB/s            0:00:34 ETA    \n",
      "    78%    436.4 MiB       3.5 MiB/s            0:00:33 ETA    \n",
      "    79%    438.3 MiB       3.5 MiB/s            0:00:33 ETA    \n",
      "    79%    439.4 MiB       3.4 MiB/s            0:00:32 ETA    \n",
      "    79%    440.7 MiB       3.4 MiB/s            0:00:32 ETA    \n",
      "    79%    442.3 MiB       3.4 MiB/s            0:00:32 ETA    \n",
      "    80%    443.7 MiB       3.4 MiB/s            0:00:31 ETA    \n",
      "    80%    445.3 MiB       3.4 MiB/s            0:00:31 ETA    \n",
      "    80%    446.6 MiB       3.4 MiB/s            0:00:30 ETA    \n",
      "    81%    448.1 MiB       3.4 MiB/s            0:00:30 ETA    \n",
      "    81%    449.7 MiB       3.4 MiB/s            0:00:30 ETA    \n",
      "    81%    451.2 MiB       3.4 MiB/s            0:00:29 ETA    \n",
      "    81%    453.0 MiB       3.4 MiB/s            0:00:29 ETA    \n",
      "    82%    454.9 MiB       3.4 MiB/s            0:00:28 ETA    \n",
      "    82%    456.7 MiB       3.4 MiB/s            0:00:28 ETA    \n",
      "    82%    458.6 MiB       3.4 MiB/s            0:00:27 ETA    \n",
      "    83%    460.5 MiB       3.4 MiB/s            0:00:26 ETA    \n",
      "    83%    462.4 MiB       3.4 MiB/s            0:00:26 ETA    \n",
      "    83%    464.3 MiB       3.4 MiB/s            0:00:25 ETA    \n",
      "    84%    466.1 MiB       3.4 MiB/s            0:00:25 ETA    \n",
      "    84%    468.2 MiB       3.4 MiB/s            0:00:24 ETA    \n",
      "    85%    470.4 MiB       3.4 MiB/s            0:00:23 ETA    \n",
      "    85%    472.2 MiB       3.4 MiB/s            0:00:23 ETA    \n",
      "    85%    474.0 MiB       3.4 MiB/s            0:00:22 ETA    \n",
      "    86%    475.7 MiB       3.4 MiB/s            0:00:22 ETA    \n",
      "    86%    477.8 MiB       3.5 MiB/s            0:00:21 ETA    \n",
      "    86%    479.5 MiB       3.4 MiB/s            0:00:21 ETA    \n",
      "    87%    481.6 MiB       3.5 MiB/s            0:00:20 ETA    \n",
      "    87%    483.7 MiB       3.5 MiB/s            0:00:20 ETA    \n",
      "    87%    485.2 MiB       3.5 MiB/s            0:00:19 ETA    \n",
      "    88%    486.6 MiB       3.5 MiB/s            0:00:19 ETA    \n",
      "    88%    488.2 MiB       3.5 MiB/s            0:00:18 ETA    \n",
      "    88%    489.7 MiB       3.4 MiB/s            0:00:18 ETA    \n",
      "    88%    491.6 MiB       3.4 MiB/s            0:00:17 ETA    \n",
      "    89%    493.6 MiB       3.5 MiB/s            0:00:17 ETA    \n",
      "    89%    495.6 MiB       3.5 MiB/s            0:00:16 ETA    \n",
      "    89%    497.5 MiB       3.5 MiB/s            0:00:16 ETA    \n",
      "    90%    499.3 MiB       3.5 MiB/s            0:00:15 ETA    \n",
      "    90%    501.1 MiB       3.5 MiB/s            0:00:15 ETA    \n",
      "    90%    502.9 MiB       3.5 MiB/s            0:00:14 ETA    \n",
      "    91%    504.7 MiB       3.5 MiB/s            0:00:13 ETA    \n",
      "    91%    506.2 MiB       3.5 MiB/s            0:00:13 ETA    \n",
      "    91%    507.6 MiB       3.5 MiB/s            0:00:13 ETA    \n",
      "    92%    509.6 MiB       3.5 MiB/s            0:00:12 ETA    \n",
      "    92%    511.3 MiB       3.5 MiB/s            0:00:12 ETA    \n",
      "    92%    512.7 MiB       3.5 MiB/s            0:00:11 ETA    \n",
      "    92%    514.1 MiB       3.4 MiB/s            0:00:11 ETA    \n",
      "    93%    516.1 MiB       3.5 MiB/s            0:00:10 ETA    \n",
      "    93%    518.1 MiB       3.5 MiB/s            0:00:10 ETA    \n",
      "    94%    520.0 MiB       3.5 MiB/s            0:00:09 ETA    \n",
      "    94%    522.1 MiB       3.5 MiB/s            0:00:08 ETA    \n",
      "    94%    524.2 MiB       3.5 MiB/s            0:00:08 ETA    \n",
      "    95%    526.1 MiB       3.5 MiB/s            0:00:07 ETA    \n",
      "    95%    528.1 MiB       3.5 MiB/s            0:00:07 ETA    \n",
      "    95%    529.7 MiB       3.5 MiB/s            0:00:06 ETA    \n",
      "    96%    531.4 MiB       3.5 MiB/s            0:00:06 ETA    \n",
      "    96%    533.0 MiB       3.5 MiB/s            0:00:05 ETA    \n",
      "    96%    534.8 MiB       3.5 MiB/s            0:00:05 ETA    \n",
      "    97%    536.6 MiB       3.5 MiB/s            0:00:04 ETA    \n",
      "    97%    538.6 MiB       3.5 MiB/s            0:00:04 ETA    \n",
      "    97%    540.5 MiB       3.5 MiB/s            0:00:03 ETA    \n",
      "    98%    542.5 MiB       3.5 MiB/s            0:00:03 ETA    \n",
      "    98%    544.3 MiB       3.5 MiB/s            0:00:02 ETA    \n",
      "    98%    545.7 MiB       3.5 MiB/s            0:00:02 ETA    \n",
      "    98%    547.3 MiB       3.5 MiB/s            0:00:01 ETA    \n",
      "    99%    549.1 MiB       3.5 MiB/s            0:00:01 ETA    \n",
      "    99%    550.8 MiB       3.5 MiB/s            0:00:00 ETA    \n",
      "    99%    552.2 MiB       3.5 MiB/s            0:00:00 ETA    \n",
      "\n"
     ]
    },
    {
     "name": "stdout",
     "output_type": "stream",
     "text": [
      "\u001b[34m===> \u001b[0mDownloading: LC80310452015085LGN00.tar.bz\n",
      "     \u001b[32mstored at /Users/RaulSierra/landsat/downloads\u001b[0m\n"
     ]
    }
   ],
   "source": [
    "for s_id in scenes_ids:\n",
    "    output = download.download([s_id])"
   ]
  },
  {
   "cell_type": "code",
   "execution_count": 9,
   "metadata": {
    "collapsed": false
   },
   "outputs": [
    {
     "name": "stdout",
     "output_type": "stream",
     "text": [
      "\u001b[34m===> \u001b[0mUnzipping LC80310452015085LGN00 - It might take some time\n",
      "\u001b[34m===> \u001b[0mImage processing started for bands 4-3-2-1-5-6-7-9\n",
      "\u001b[34m===> \u001b[0mGetting boundaries\n",
      "\u001b[34m===> \u001b[0mProjecting\n",
      "     \u001b[32mband 4\u001b[0m\n",
      "     \u001b[32mband 3\u001b[0m\n",
      "     \u001b[32mband 2\u001b[0m\n",
      "     \u001b[32mband 1\u001b[0m\n",
      "     \u001b[32mband 5\u001b[0m\n",
      "     \u001b[32mband 6\u001b[0m\n",
      "     \u001b[32mband 7\u001b[0m\n",
      "     \u001b[32mband 9\u001b[0m\n",
      "\u001b[34m===> \u001b[0mCalculating cloud and snow coverage from QA band\n",
      "     \u001b[32mcloud/snow coverage: 1.87\u001b[0m\n",
      "\u001b[34m===> \u001b[0mFinal Steps\n",
      "     \u001b[32mColor correcting band 4\u001b[0m\n",
      "     \u001b[32mColor correcting band 3\u001b[0m\n",
      "     \u001b[32mColor correcting band 2\u001b[0m\n",
      "     \u001b[32mColor correcting band 1\u001b[0m\n",
      "     \u001b[32mColor correcting band 5\u001b[0m\n",
      "     \u001b[32mColor correcting band 6\u001b[0m\n",
      "     \u001b[32mColor correcting band 7\u001b[0m\n",
      "     \u001b[32mColor correcting band 9\u001b[0m\n",
      "     \u001b[32mWriting to file\u001b[0m\n"
     ]
    }
   ],
   "source": [
    "landsat_dir = \"/Users/RaulSierra/landsat/downloads/\"\n",
    "landsat_files = glob.glob(landsat_dir + \"LC*.tar.bz\")\n",
    "\n",
    "for file in landsat_files[:2]:\n",
    "    im_process = Simple(file, bands=[4,3,2,1,5,6,7,9], dst_path=\"Darwin-SFL-101/landsat_data/\", verbose=False)\n",
    "    im_process.run()"
   ]
  },
  {
   "cell_type": "code",
   "execution_count": null,
   "metadata": {
    "collapsed": false
   },
   "outputs": [],
   "source": [
    "landsat_data_dir = \"Darwin-SFL-101/landsat_data/\"\n",
    "for (root, dirs, files) in os.walk(landsat_data_dir):\n",
    "    for file in files:\n",
    "        if file.endswith(\".TIF\"):\n",
    "            shutil.move(os.path.join(root,file), landsat_data_dir)\n",
    "            \n",
    "    if not dirs:\n",
    "        shutil.rmtree(root)"
   ]
  },
  {
   "cell_type": "markdown",
   "metadata": {},
   "source": [
    "## Crear raster de entrenamiento"
   ]
  },
  {
   "cell_type": "code",
   "execution_count": null,
   "metadata": {
    "collapsed": false
   },
   "outputs": [],
   "source": [
    "!mapshaper Darwin-SFL-101/mapa_manglar/mexoc2010gw/mexoc2010gw.shp -filter-fields Clase -o manglar_clase.shp"
   ]
  },
  {
   "cell_type": "markdown",
   "metadata": {},
   "source": [
    "Ahora hay que recortar el shape a solo la escena que vamos a usar"
   ]
  },
  {
   "cell_type": "code",
   "execution_count": null,
   "metadata": {
    "collapsed": false
   },
   "outputs": [],
   "source": [
    "bbox = \"-107.31526908421758,20.59854358911711,-105.07951516054297,22.730735318220372\"\n",
    "!mapshaper manglar_clase.shp -clip bbox=$bbox -o manglar_clase_clip.shp "
   ]
  },
  {
   "cell_type": "markdown",
   "metadata": {},
   "source": [
    "Utilizamos rasterio para crear un raster en ceros donde rasterizemosel shapefile"
   ]
  },
  {
   "cell_type": "code",
   "execution_count": null,
   "metadata": {
    "collapsed": false
   },
   "outputs": [],
   "source": [
    "landsat_scene = \"/Users/RaulSierra/Ecoinformatica/Devel/iPyNotebooks/Darwin/Darwin-SFL-101/train/landsat/LC80310452014130LGN00_bands_4321567891011.tif\"\n",
    "gt_raster = landsat_scene.replace(\".tif\", \".gt\")\n",
    "\n",
    "with rasterio.drivers():\n",
    "    # Read raster bands directly to Numpy arrays.\n",
    "    #\n",
    "    with rasterio.open(landsat_scene) as src:\n",
    "        width = src.width\n",
    "        height = src.height\n",
    "        empty_rast = numpy.zeros((width, height), dtype = numpy.uint8)\n",
    "\n",
    "        \n",
    "        # Write the product as a raster band to a new 8-bit file. For\n",
    "        # the new file's profile, we start with the meta attributes of\n",
    "        # the source file, but then change the band count to 1, set the\n",
    "        # dtype to uint8, and specify LZW compression.\n",
    "        profile = src.profile\n",
    "        profile.update(\n",
    "            dtype=rasterio.uint8,\n",
    "            count=1,\n",
    "            compress='lzw',\n",
    "            photometric = 'MINISBLACK')\n",
    "\n",
    "        with rasterio.open(gt_raster, 'w', **profile) as dst:\n",
    "            dst.write(empty_rast.astype(rasterio.uint8), 1)\n",
    "\n",
    "    # At the end of the ``with rasterio.drivers()`` block, context\n",
    "    # manager exits and all drivers are de-registered."
   ]
  },
  {
   "cell_type": "code",
   "execution_count": null,
   "metadata": {
    "collapsed": false
   },
   "outputs": [],
   "source": [
    "!rio info $landsat_scene"
   ]
  },
  {
   "cell_type": "code",
   "execution_count": null,
   "metadata": {
    "collapsed": false
   },
   "outputs": [],
   "source": [
    "!ogr2ogr -t_srs EPSG:3857 manglar_clase_clip_new.shp manglar_clase_clip.shp\n",
    "!gdal_rasterize -a Clase -l manglar_clase_clip_new manglar_clase_clip_new.shp $gt_raster"
   ]
  },
  {
   "cell_type": "code",
   "execution_count": null,
   "metadata": {
    "collapsed": false
   },
   "outputs": [],
   "source": [
    "!gdal_calc.py -A $gt_raster -B $landsat_scene --outfile=$gt_raster --calc=\"A*(B > 0)\""
   ]
  },
  {
   "cell_type": "markdown",
   "metadata": {},
   "source": [
    "Copiamos el groundtruth para todas las imágenes"
   ]
  },
  {
   "cell_type": "code",
   "execution_count": 176,
   "metadata": {
    "collapsed": false
   },
   "outputs": [],
   "source": [
    "ls_files = glob.glob(landsat_data_dir + \"*.TIF\")\n",
    "for ls_file in ls_files:\n",
    "    shutil.copy(gt_raster, ls_file.replace(\".TIF\", \".gt\"))"
   ]
  },
  {
   "cell_type": "markdown",
   "metadata": {
    "collapsed": true
   },
   "source": [
    "Limpiar set de entrenamiento"
   ]
  },
  {
   "cell_type": "code",
   "execution_count": 177,
   "metadata": {
    "collapsed": true
   },
   "outputs": [],
   "source": [
    "tiles_dir = \"./Darwin-SFL-101/train/\"\n",
    "gt_tiles = glob.glob(tiles_dir + \"*.gt\")\n",
    "\n",
    "with rasterio.drivers():\n",
    "    # Read raster bands directly to Numpy arrays.\n",
    "    #\n",
    "    for tile in gt_tiles:\n",
    "        with rasterio.open(tile) as src:\n",
    "            data = src.read()\n",
    "            if(data.sum() == 0):\n",
    "                os.remove(tile)\n",
    "                os.remove(tile.replace(\".gt\", \".tif\"))                \n",
    " "
   ]
  },
  {
   "cell_type": "code",
   "execution_count": null,
   "metadata": {
    "collapsed": false
   },
   "outputs": [],
   "source": [
    "rapideye_name = \"1349112_2014-05-17_RE4_3A_255761\"\n",
    "!rio clip $landsat_scene {\"LS_\" + rapideye_name  + \".tif\"} --like {train_dir + rapideye_name + \".tif\"}"
   ]
  },
  {
   "cell_type": "code",
   "execution_count": null,
   "metadata": {
    "collapsed": false
   },
   "outputs": [],
   "source": [
    "!rio warp {train_dir + rapideye_name + \".gt\"} {train_dir + \"landsat/LS_\" + rapideye_name  + \".gt\"} --like {train_dir + \"landsat/LS_\" + rapideye_name  + \".tif\"}"
   ]
  },
  {
   "cell_type": "code",
   "execution_count": null,
   "metadata": {
    "collapsed": false,
    "scrolled": true
   },
   "outputs": [],
   "source": [
    "!rio info {train_dir + \"landsat/LS_\" + rapideye_name  + \".tif\"}"
   ]
  }
 ],
 "metadata": {
  "kernelspec": {
   "display_name": "Python 2",
   "language": "python",
   "name": "python2"
  },
  "language_info": {
   "codemirror_mode": {
    "name": "ipython",
    "version": 2
   },
   "file_extension": ".py",
   "mimetype": "text/x-python",
   "name": "python",
   "nbconvert_exporter": "python",
   "pygments_lexer": "ipython2",
   "version": "2.7.9"
  }
 },
 "nbformat": 4,
 "nbformat_minor": 0
}
